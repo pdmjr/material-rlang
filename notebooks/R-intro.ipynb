{
  "nbformat": 4,
  "nbformat_minor": 0,
  "metadata": {
    "colab": {
      "provenance": [],
      "collapsed_sections": [
        "uI4iO5Boygd8",
        "6mDriTKENRip",
        "187O0jNTSsn5",
        "DFM88K8caC2o"
      ],
      "authorship_tag": "ABX9TyPOr/VzgWiBoXyLkKwqXV5G",
      "include_colab_link": true
    },
    "kernelspec": {
      "name": "ir",
      "display_name": "R"
    },
    "language_info": {
      "name": "R"
    }
  },
  "cells": [
    {
      "cell_type": "markdown",
      "metadata": {
        "id": "view-in-github",
        "colab_type": "text"
      },
      "source": [
        "<a href=\"https://colab.research.google.com/github/pdmjr/material-rlang/blob/main/notebooks/R-intro.ipynb\" target=\"_parent\"><img src=\"https://colab.research.google.com/assets/colab-badge.svg\" alt=\"Open In Colab\"/></a>"
      ]
    },
    {
      "cell_type": "markdown",
      "source": [
        "# Material introdutório sobre a Linguagem R"
      ],
      "metadata": {
        "id": "uI4iO5Boygd8"
      }
    },
    {
      "cell_type": "markdown",
      "source": [
        "(Exemplos do material: https://cran.r-project.org/doc/contrib/Paradis-rdebuts_en.pdf)"
      ],
      "metadata": {
        "id": "4fZ_5xa5PoeZ"
      }
    },
    {
      "cell_type": "markdown",
      "source": [
        "# Criando, listando e apagando objetos na memória"
      ],
      "metadata": {
        "id": "6mDriTKENRip"
      }
    },
    {
      "cell_type": "markdown",
      "source": [
        "Atribuição"
      ],
      "metadata": {
        "id": "pRK_s97ZU-aK"
      }
    },
    {
      "cell_type": "code",
      "source": [
        "n <- 15\n",
        "n\n",
        "5 -> n\n",
        "n"
      ],
      "metadata": {
        "id": "0RI5dc2mNf5B",
        "colab": {
          "base_uri": "https://localhost:8080/",
          "height": 52
        },
        "outputId": "d7a78e4e-11e0-4a7a-fa56-5ba3436c67b5"
      },
      "execution_count": null,
      "outputs": [
        {
          "output_type": "display_data",
          "data": {
            "text/html": [
              "15"
            ],
            "text/markdown": "15",
            "text/latex": "15",
            "text/plain": [
              "[1] 15"
            ]
          },
          "metadata": {}
        },
        {
          "output_type": "display_data",
          "data": {
            "text/html": [
              "5"
            ],
            "text/markdown": "5",
            "text/latex": "5",
            "text/plain": [
              "[1] 5"
            ]
          },
          "metadata": {}
        }
      ]
    },
    {
      "cell_type": "code",
      "source": [
        "x <- 1\n",
        "X <- 10\n",
        "x\n",
        "X"
      ],
      "metadata": {
        "id": "Kk_PYZKQNsq6"
      },
      "execution_count": null,
      "outputs": []
    },
    {
      "cell_type": "code",
      "source": [
        "n <- 10 + 2\n",
        "n"
      ],
      "metadata": {
        "id": "SkFFDx01NyuC"
      },
      "execution_count": null,
      "outputs": []
    },
    {
      "cell_type": "code",
      "source": [
        "n <- 3 + rnorm(1)\n",
        "n"
      ],
      "metadata": {
        "id": "3dnpEUokN9Ny"
      },
      "execution_count": null,
      "outputs": []
    },
    {
      "cell_type": "markdown",
      "source": [
        "Listagem do ambiente"
      ],
      "metadata": {
        "id": "CHuE1FsbVBjQ"
      }
    },
    {
      "cell_type": "code",
      "source": [
        "ls()"
      ],
      "metadata": {
        "id": "BWvwYGhFScXZ"
      },
      "execution_count": null,
      "outputs": []
    },
    {
      "cell_type": "markdown",
      "source": [
        "Remoção de objetos"
      ],
      "metadata": {
        "id": "dtbCCK2SVDrZ"
      }
    },
    {
      "cell_type": "code",
      "source": [
        "rm(n)"
      ],
      "metadata": {
        "id": "wAEHuHcaRarR"
      },
      "execution_count": null,
      "outputs": []
    },
    {
      "cell_type": "code",
      "source": [
        "rm(x, X)"
      ],
      "metadata": {
        "id": "djk_EwlQRecN"
      },
      "execution_count": null,
      "outputs": []
    },
    {
      "cell_type": "markdown",
      "source": [
        "Expressão sem atribuição a um objeto"
      ],
      "metadata": {
        "id": "WYqjCmhXVNIz"
      }
    },
    {
      "cell_type": "code",
      "source": [
        "(10 + 2) * 5"
      ],
      "metadata": {
        "id": "9NbVdHgKP1WS"
      },
      "execution_count": null,
      "outputs": []
    },
    {
      "cell_type": "markdown",
      "source": [
        "Vários comandos na mesma linha"
      ],
      "metadata": {
        "id": "eYfNBPRaVW4_"
      }
    },
    {
      "cell_type": "code",
      "source": [
        "name <- \"Carmen\"; n1 <- 10; n2 <- 100; m <- 0.5\n",
        "ls()"
      ],
      "metadata": {
        "colab": {
          "base_uri": "https://localhost:8080/",
          "height": 34
        },
        "id": "x8_gfyPcQJMh",
        "outputId": "a148ad3c-7f6a-4366-8bf5-896098bfd3fb"
      },
      "execution_count": null,
      "outputs": [
        {
          "output_type": "display_data",
          "data": {
            "text/html": [
              "<style>\n",
              ".list-inline {list-style: none; margin:0; padding: 0}\n",
              ".list-inline>li {display: inline-block}\n",
              ".list-inline>li:not(:last-child)::after {content: \"\\00b7\"; padding: 0 .5ex}\n",
              "</style>\n",
              "<ol class=list-inline><li>'m'</li><li>'n'</li><li>'n1'</li><li>'n2'</li><li>'name'</li></ol>\n"
            ],
            "text/markdown": "1. 'm'\n2. 'n'\n3. 'n1'\n4. 'n2'\n5. 'name'\n\n\n",
            "text/latex": "\\begin{enumerate*}\n\\item 'm'\n\\item 'n'\n\\item 'n1'\n\\item 'n2'\n\\item 'name'\n\\end{enumerate*}\n",
            "text/plain": [
              "[1] \"m\"    \"n\"    \"n1\"   \"n2\"   \"name\""
            ]
          },
          "metadata": {}
        }
      ]
    },
    {
      "cell_type": "markdown",
      "source": [
        "Filtrando a listagem por algum padrão de texto"
      ],
      "metadata": {
        "id": "hC2q49ftVZ9P"
      }
    },
    {
      "cell_type": "code",
      "execution_count": null,
      "metadata": {
        "id": "cmfe2B98yaJD",
        "colab": {
          "base_uri": "https://localhost:8080/",
          "height": 34
        },
        "outputId": "231cc9e6-67a5-4f6f-dcb6-5a2ca9b5641a"
      },
      "outputs": [
        {
          "output_type": "display_data",
          "data": {
            "text/html": [
              "<style>\n",
              ".list-inline {list-style: none; margin:0; padding: 0}\n",
              ".list-inline>li {display: inline-block}\n",
              ".list-inline>li:not(:last-child)::after {content: \"\\00b7\"; padding: 0 .5ex}\n",
              "</style>\n",
              "<ol class=list-inline><li>'m'</li><li>'name'</li></ol>\n"
            ],
            "text/markdown": "1. 'm'\n2. 'name'\n\n\n",
            "text/latex": "\\begin{enumerate*}\n\\item 'm'\n\\item 'name'\n\\end{enumerate*}\n",
            "text/plain": [
              "[1] \"m\"    \"name\""
            ]
          },
          "metadata": {}
        }
      ],
      "source": [
        "ls(pattern = \"m\")"
      ]
    },
    {
      "cell_type": "code",
      "source": [
        "ls(pat = \"^m\")"
      ],
      "metadata": {
        "colab": {
          "base_uri": "https://localhost:8080/",
          "height": 34
        },
        "id": "UJMFMlZJVsfw",
        "outputId": "9ca04da4-2571-483a-901a-61c67678c2f8"
      },
      "execution_count": null,
      "outputs": [
        {
          "output_type": "display_data",
          "data": {
            "text/html": [
              "'m'"
            ],
            "text/markdown": "'m'",
            "text/latex": "'m'",
            "text/plain": [
              "[1] \"m\""
            ]
          },
          "metadata": {}
        }
      ]
    },
    {
      "cell_type": "markdown",
      "source": [
        "Listagem com detalhes dos objetos"
      ],
      "metadata": {
        "id": "by6fw9ocViKf"
      }
    },
    {
      "cell_type": "code",
      "source": [
        "ls.str()"
      ],
      "metadata": {
        "id": "JXmxIvT4RBrw"
      },
      "execution_count": null,
      "outputs": []
    },
    {
      "cell_type": "code",
      "source": [
        "rm(list = ls())\n",
        "ls()"
      ],
      "metadata": {
        "id": "_OgoE5gvR-bI"
      },
      "execution_count": null,
      "outputs": []
    },
    {
      "cell_type": "markdown",
      "source": [
        "# Ajuda on-line"
      ],
      "metadata": {
        "id": "187O0jNTSsn5"
      }
    },
    {
      "cell_type": "markdown",
      "source": [
        "Utilizando as funções de ajuda ```?``` e ```help()```"
      ],
      "metadata": {
        "id": "I8sRLR8aWKBQ"
      }
    },
    {
      "cell_type": "code",
      "source": [
        "?ls"
      ],
      "metadata": {
        "id": "Ny4p2G63S6Y5"
      },
      "execution_count": null,
      "outputs": []
    },
    {
      "cell_type": "code",
      "source": [
        "help(ls)"
      ],
      "metadata": {
        "id": "VaFBpUK1ThVY"
      },
      "execution_count": null,
      "outputs": []
    },
    {
      "cell_type": "code",
      "source": [
        "help(\"ls\")"
      ],
      "metadata": {
        "id": "liXoaGOgTlUg"
      },
      "execution_count": null,
      "outputs": []
    },
    {
      "cell_type": "markdown",
      "source": [
        "As aspas são importantes para caracteres especiais"
      ],
      "metadata": {
        "id": "3OfK85wzWVeP"
      }
    },
    {
      "cell_type": "code",
      "source": [
        "?*"
      ],
      "metadata": {
        "id": "mTiyHAGeTLmQ"
      },
      "execution_count": null,
      "outputs": []
    },
    {
      "cell_type": "code",
      "source": [
        "help(\"*\")"
      ],
      "metadata": {
        "id": "cY_QCursTT5_"
      },
      "execution_count": null,
      "outputs": []
    },
    {
      "cell_type": "markdown",
      "source": [
        "Por padrão, a função ```help()``` procura apenas por pacotes carregados na memória; mas também é possível buscar em um pacote específico ou em todos os pacotes com a opção ```try.all.packages = TRUE``` "
      ],
      "metadata": {
        "id": "HgxN8sBaUA3A"
      }
    },
    {
      "cell_type": "code",
      "source": [
        "help(\"bs\")"
      ],
      "metadata": {
        "id": "cPSDFXyFT4ig"
      },
      "execution_count": null,
      "outputs": []
    },
    {
      "cell_type": "code",
      "source": [
        "help(\"bs\", package = \"splines\")"
      ],
      "metadata": {
        "id": "9iD5djOFXNyN"
      },
      "execution_count": null,
      "outputs": []
    },
    {
      "cell_type": "code",
      "source": [
        "help(\"bs\", try.all.packages = TRUE)"
      ],
      "metadata": {
        "id": "CIMCqtuaWxgf"
      },
      "execution_count": null,
      "outputs": []
    },
    {
      "cell_type": "markdown",
      "source": [
        "Busca por uma palavra específica em todas as páginas de ajuda"
      ],
      "metadata": {
        "id": "hI203euzYbvu"
      }
    },
    {
      "cell_type": "code",
      "source": [
        "help.search(\"tree\")"
      ],
      "metadata": {
        "id": "xFXEPrDSYB03"
      },
      "execution_count": null,
      "outputs": []
    },
    {
      "cell_type": "markdown",
      "source": [
        "Para o caso de pacotes instalados recentementes, talvez seja necessário atualizar a base de dados utilizada"
      ],
      "metadata": {
        "id": "0uRHzfREYsHw"
      }
    },
    {
      "cell_type": "code",
      "source": [
        "help.search(\"tree\", rebuild = TRUE)"
      ],
      "metadata": {
        "id": "sLaovi96ZSvU"
      },
      "execution_count": null,
      "outputs": []
    },
    {
      "cell_type": "markdown",
      "source": [
        "Busca por todas as funções em memória cujos nomes contêm uma determinada string"
      ],
      "metadata": {
        "id": "FSNJeUHAZd-_"
      }
    },
    {
      "cell_type": "code",
      "source": [
        "apropos(\"help\")"
      ],
      "metadata": {
        "colab": {
          "base_uri": "https://localhost:8080/",
          "height": 34
        },
        "id": "p94En8XQZ0Sv",
        "outputId": "b52e7fba-4e33-4778-bc25-9246a969cecb"
      },
      "execution_count": null,
      "outputs": [
        {
          "output_type": "display_data",
          "data": {
            "text/html": [
              "<style>\n",
              ".list-inline {list-style: none; margin:0; padding: 0}\n",
              ".list-inline>li {display: inline-block}\n",
              ".list-inline>li:not(:last-child)::after {content: \"\\00b7\"; padding: 0 .5ex}\n",
              "</style>\n",
              "<ol class=list-inline><li>'help'</li><li>'help.request'</li><li>'help.search'</li><li>'help.start'</li></ol>\n"
            ],
            "text/markdown": "1. 'help'\n2. 'help.request'\n3. 'help.search'\n4. 'help.start'\n\n\n",
            "text/latex": "\\begin{enumerate*}\n\\item 'help'\n\\item 'help.request'\n\\item 'help.search'\n\\item 'help.start'\n\\end{enumerate*}\n",
            "text/plain": [
              "[1] \"help\"         \"help.request\" \"help.search\"  \"help.start\"  "
            ]
          },
          "metadata": {}
        }
      ]
    },
    {
      "cell_type": "markdown",
      "source": [
        "# Objetos"
      ],
      "metadata": {
        "id": "DFM88K8caC2o"
      }
    },
    {
      "cell_type": "markdown",
      "source": [
        "R trabalha com objetos que são caracterizados por seus atributos, dois deles intrisecos são ```mode``` e ```length```"
      ],
      "metadata": {
        "id": "2J04DJBraPTW"
      }
    },
    {
      "cell_type": "code",
      "source": [
        "x <- 1\n",
        "mode(x)\n",
        "length(x)"
      ],
      "metadata": {
        "id": "VExtK02uaHy_"
      },
      "execution_count": null,
      "outputs": []
    },
    {
      "cell_type": "code",
      "source": [
        "A <- \"Gomphotherium\"; compar <- TRUE; z <- 1i\n",
        "mode(A); mode(compar); mode(z)"
      ],
      "metadata": {
        "id": "4Uks1vcMbRYm"
      },
      "execution_count": null,
      "outputs": []
    },
    {
      "cell_type": "markdown",
      "source": [
        "Números grandes podem ser especificados com notação exponencial"
      ],
      "metadata": {
        "id": "y9SlFVSsb3h_"
      }
    },
    {
      "cell_type": "code",
      "source": [
        "N <- 2.1e23\n",
        "N"
      ],
      "metadata": {
        "colab": {
          "base_uri": "https://localhost:8080/",
          "height": 34
        },
        "id": "c34ddhGrbb2v",
        "outputId": "39cb90b9-0cef-4b72-9b57-0fde90fe7c06"
      },
      "execution_count": null,
      "outputs": [
        {
          "output_type": "display_data",
          "data": {
            "text/html": [
              "2.1e+23"
            ],
            "text/markdown": "2.1e+23",
            "text/latex": "2.1e+23",
            "text/plain": [
              "[1] 2.1e+23"
            ]
          },
          "metadata": {}
        }
      ]
    },
    {
      "cell_type": "markdown",
      "source": [
        "Representação de números infinitos (```Inf``` e ```-Inf```) ou valores que não são números (```NaN```)"
      ],
      "metadata": {
        "id": "pZtZCTqicGRA"
      }
    },
    {
      "cell_type": "code",
      "source": [
        "x <- 5/0\n",
        "x"
      ],
      "metadata": {
        "colab": {
          "base_uri": "https://localhost:8080/",
          "height": 34
        },
        "id": "mH-M5dvMciyn",
        "outputId": "81904520-9226-4b11-fc00-526bb38e4911"
      },
      "execution_count": null,
      "outputs": [
        {
          "output_type": "display_data",
          "data": {
            "text/html": [
              "Inf"
            ],
            "text/markdown": "Inf",
            "text/latex": "Inf",
            "text/plain": [
              "[1] Inf"
            ]
          },
          "metadata": {}
        }
      ]
    },
    {
      "cell_type": "code",
      "source": [
        "exp(x)"
      ],
      "metadata": {
        "colab": {
          "base_uri": "https://localhost:8080/",
          "height": 34
        },
        "id": "FjgnLtRVcqcm",
        "outputId": "3835df4f-29b2-4edd-97a2-0a85379eda40"
      },
      "execution_count": null,
      "outputs": [
        {
          "output_type": "display_data",
          "data": {
            "text/html": [
              "Inf"
            ],
            "text/markdown": "Inf",
            "text/latex": "Inf",
            "text/plain": [
              "[1] Inf"
            ]
          },
          "metadata": {}
        }
      ]
    },
    {
      "cell_type": "code",
      "source": [
        "exp(-x)"
      ],
      "metadata": {
        "colab": {
          "base_uri": "https://localhost:8080/",
          "height": 34
        },
        "id": "y7ngNqysctDe",
        "outputId": "e8dfa6a9-e17f-47d7-ccf1-181f64d9b466"
      },
      "execution_count": null,
      "outputs": [
        {
          "output_type": "display_data",
          "data": {
            "text/html": [
              "0"
            ],
            "text/markdown": "0",
            "text/latex": "0",
            "text/plain": [
              "[1] 0"
            ]
          },
          "metadata": {}
        }
      ]
    },
    {
      "cell_type": "code",
      "source": [
        "x - x"
      ],
      "metadata": {
        "colab": {
          "base_uri": "https://localhost:8080/",
          "height": 34
        },
        "id": "BKoYim4nc1Dg",
        "outputId": "c967779d-bb7d-414a-a477-b843fc4b178e"
      },
      "execution_count": null,
      "outputs": [
        {
          "output_type": "display_data",
          "data": {
            "text/html": [
              "NaN"
            ],
            "text/markdown": "NaN",
            "text/latex": "NaN",
            "text/plain": [
              "[1] NaN"
            ]
          },
          "metadata": {}
        }
      ]
    },
    {
      "cell_type": "markdown",
      "source": [
        "| object  | modes  | several modes possible |\n",
        "|---|---|---|\n",
        "| vector  | numeric, character, complex or logical | No |\n",
        "| factor  | numeric or character  | No  |\n",
        "| array  | numeric, character, complex or logical  | No  |\n",
        "| matrix  | numeric, character, complex or logical  | No  |\n",
        "| data frame  | numeric, character, complex or logical | Yes  |\n",
        "| ts  | numeric, character, complex or logical  | No  |\n",
        "| list  | numeric, character, complex, logical, function, expression, ...  | Yes  |"
      ],
      "metadata": {
        "id": "A78l4nZ_dWtP"
      }
    },
    {
      "cell_type": "markdown",
      "source": [
        "# Leitura de dados em um arquivo"
      ],
      "metadata": {
        "id": "bdqFTR36fZYY"
      }
    },
    {
      "cell_type": "markdown",
      "source": [
        "Para saber o diretório de trabalho"
      ],
      "metadata": {
        "id": "HE1vijzDflbu"
      }
    },
    {
      "cell_type": "code",
      "source": [
        "getwd()"
      ],
      "metadata": {
        "id": "AFhH-mtgfyw2"
      },
      "execution_count": null,
      "outputs": []
    },
    {
      "cell_type": "markdown",
      "source": [
        "Para alterar o diretório de trabalho"
      ],
      "metadata": {
        "id": "2FsOLpvgf1dt"
      }
    },
    {
      "cell_type": "code",
      "source": [
        "setwd(\"PATH_TO_THE_NEW_DIRECTORY\")"
      ],
      "metadata": {
        "id": "nOKMWg9Rf8Xt"
      },
      "execution_count": null,
      "outputs": []
    },
    {
      "cell_type": "markdown",
      "source": [
        "Para ler dados armazenados em formato tabular e em modo texto (ASCII)"
      ],
      "metadata": {
        "id": "gzLGLufnoVzD"
      }
    },
    {
      "cell_type": "code",
      "source": [
        "mydata1 <- read.table(\"data.dat\")\n",
        "mydata1"
      ],
      "metadata": {
        "colab": {
          "base_uri": "https://localhost:8080/",
          "height": 182
        },
        "id": "w1PxCsp7kG5s",
        "outputId": "d5b8b8e3-3051-4e44-a8a1-b06e684da012"
      },
      "execution_count": null,
      "outputs": [
        {
          "output_type": "stream",
          "name": "stderr",
          "text": [
            "Warning message in file(file, \"rt\"):\n",
            "“cannot open file 'data.dat': No such file or directory”\n"
          ]
        },
        {
          "output_type": "error",
          "ename": "ERROR",
          "evalue": "ignored",
          "traceback": [
            "Error in file(file, \"rt\"): cannot open the connection\nTraceback:\n",
            "1. read.table(\"data.dat\")",
            "2. file(file, \"rt\")"
          ]
        }
      ]
    },
    {
      "cell_type": "code",
      "source": [
        "mydata2 <- read.table(\"data.dat\", header = T)\n",
        "mydata2"
      ],
      "metadata": {
        "colab": {
          "base_uri": "https://localhost:8080/",
          "height": 318
        },
        "outputId": "a14b62a0-73ad-43b0-b3f0-55d96eedee8c",
        "id": "oGyuZ3fxnLhp"
      },
      "execution_count": null,
      "outputs": [
        {
          "output_type": "display_data",
          "data": {
            "text/html": [
              "<table class=\"dataframe\">\n",
              "<caption>A data.frame: 7 × 3</caption>\n",
              "<thead>\n",
              "\t<tr><th scope=col>var1</th><th scope=col>var2</th><th scope=col>var3</th></tr>\n",
              "\t<tr><th scope=col>&lt;int&gt;</th><th scope=col>&lt;int&gt;</th><th scope=col>&lt;int&gt;</th></tr>\n",
              "</thead>\n",
              "<tbody>\n",
              "\t<tr><td>1</td><td>7</td><td>3</td></tr>\n",
              "\t<tr><td>2</td><td>3</td><td>7</td></tr>\n",
              "\t<tr><td>3</td><td>3</td><td>8</td></tr>\n",
              "\t<tr><td>4</td><td>4</td><td>3</td></tr>\n",
              "\t<tr><td>5</td><td>5</td><td>2</td></tr>\n",
              "\t<tr><td>6</td><td>7</td><td>7</td></tr>\n",
              "\t<tr><td>9</td><td>9</td><td>4</td></tr>\n",
              "</tbody>\n",
              "</table>\n"
            ],
            "text/markdown": "\nA data.frame: 7 × 3\n\n| var1 &lt;int&gt; | var2 &lt;int&gt; | var3 &lt;int&gt; |\n|---|---|---|\n| 1 | 7 | 3 |\n| 2 | 3 | 7 |\n| 3 | 3 | 8 |\n| 4 | 4 | 3 |\n| 5 | 5 | 2 |\n| 6 | 7 | 7 |\n| 9 | 9 | 4 |\n\n",
            "text/latex": "A data.frame: 7 × 3\n\\begin{tabular}{lll}\n var1 & var2 & var3\\\\\n <int> & <int> & <int>\\\\\n\\hline\n\t 1 & 7 & 3\\\\\n\t 2 & 3 & 7\\\\\n\t 3 & 3 & 8\\\\\n\t 4 & 4 & 3\\\\\n\t 5 & 5 & 2\\\\\n\t 6 & 7 & 7\\\\\n\t 9 & 9 & 4\\\\\n\\end{tabular}\n",
            "text/plain": [
              "  var1 var2 var3\n",
              "1 1    7    3   \n",
              "2 2    3    7   \n",
              "3 3    3    8   \n",
              "4 4    4    3   \n",
              "5 5    5    2   \n",
              "6 6    7    7   \n",
              "7 9    9    4   "
            ]
          },
          "metadata": {}
        }
      ]
    },
    {
      "cell_type": "markdown",
      "source": [
        "Nas últimas duas atribuições foram criados dois data frames, cujos valores podem ser acessados pelas indicações das colunas"
      ],
      "metadata": {
        "id": "ukMP8RPaogYj"
      }
    },
    {
      "cell_type": "code",
      "source": [
        "mydata1$V1"
      ],
      "metadata": {
        "id": "fgdhjo3LpUqT"
      },
      "execution_count": null,
      "outputs": []
    },
    {
      "cell_type": "code",
      "source": [
        "mydata1[, 1]"
      ],
      "metadata": {
        "id": "AJ25DrF3ptnz"
      },
      "execution_count": null,
      "outputs": []
    },
    {
      "cell_type": "code",
      "source": [
        "mydata1[\"V1\"]"
      ],
      "metadata": {
        "id": "CpM7qpgxphrj"
      },
      "execution_count": null,
      "outputs": []
    },
    {
      "cell_type": "code",
      "source": [
        "mydata2$V1"
      ],
      "metadata": {
        "colab": {
          "base_uri": "https://localhost:8080/",
          "height": 34
        },
        "id": "LMmCttLdp6Jz",
        "outputId": "c4c690ce-a91f-4b33-df1b-2226dfed39bb"
      },
      "execution_count": null,
      "outputs": [
        {
          "output_type": "display_data",
          "data": {
            "text/plain": [
              "NULL"
            ]
          },
          "metadata": {}
        }
      ]
    },
    {
      "cell_type": "markdown",
      "source": [
        "Você entendeu a resposta acima?\n",
        "\n"
      ],
      "metadata": {
        "id": "6yOywOyjqQ5s"
      }
    },
    {
      "cell_type": "code",
      "source": [
        "mydata2"
      ],
      "metadata": {
        "colab": {
          "base_uri": "https://localhost:8080/",
          "height": 318
        },
        "id": "xHrGqrTLqeZ7",
        "outputId": "34f4c3e2-a47f-45ec-cec8-82e528e092bd"
      },
      "execution_count": null,
      "outputs": [
        {
          "output_type": "display_data",
          "data": {
            "text/html": [
              "<table class=\"dataframe\">\n",
              "<caption>A data.frame: 7 × 3</caption>\n",
              "<thead>\n",
              "\t<tr><th scope=col>var1</th><th scope=col>var2</th><th scope=col>var3</th></tr>\n",
              "\t<tr><th scope=col>&lt;int&gt;</th><th scope=col>&lt;int&gt;</th><th scope=col>&lt;int&gt;</th></tr>\n",
              "</thead>\n",
              "<tbody>\n",
              "\t<tr><td>1</td><td>7</td><td>3</td></tr>\n",
              "\t<tr><td>2</td><td>3</td><td>7</td></tr>\n",
              "\t<tr><td>3</td><td>3</td><td>8</td></tr>\n",
              "\t<tr><td>4</td><td>4</td><td>3</td></tr>\n",
              "\t<tr><td>5</td><td>5</td><td>2</td></tr>\n",
              "\t<tr><td>6</td><td>7</td><td>7</td></tr>\n",
              "\t<tr><td>9</td><td>9</td><td>4</td></tr>\n",
              "</tbody>\n",
              "</table>\n"
            ],
            "text/markdown": "\nA data.frame: 7 × 3\n\n| var1 &lt;int&gt; | var2 &lt;int&gt; | var3 &lt;int&gt; |\n|---|---|---|\n| 1 | 7 | 3 |\n| 2 | 3 | 7 |\n| 3 | 3 | 8 |\n| 4 | 4 | 3 |\n| 5 | 5 | 2 |\n| 6 | 7 | 7 |\n| 9 | 9 | 4 |\n\n",
            "text/latex": "A data.frame: 7 × 3\n\\begin{tabular}{lll}\n var1 & var2 & var3\\\\\n <int> & <int> & <int>\\\\\n\\hline\n\t 1 & 7 & 3\\\\\n\t 2 & 3 & 7\\\\\n\t 3 & 3 & 8\\\\\n\t 4 & 4 & 3\\\\\n\t 5 & 5 & 2\\\\\n\t 6 & 7 & 7\\\\\n\t 9 & 9 & 4\\\\\n\\end{tabular}\n",
            "text/plain": [
              "  var1 var2 var3\n",
              "1 1    7    3   \n",
              "2 2    3    7   \n",
              "3 3    3    8   \n",
              "4 4    4    3   \n",
              "5 5    5    2   \n",
              "6 6    7    7   \n",
              "7 9    9    4   "
            ]
          },
          "metadata": {}
        }
      ]
    },
    {
      "cell_type": "code",
      "source": [
        "mydata2$var2"
      ],
      "metadata": {
        "colab": {
          "base_uri": "https://localhost:8080/",
          "height": 34
        },
        "id": "o2A8JUOQq5tC",
        "outputId": "dbc0ff12-d9bc-4243-e6a2-d297bc5fd989"
      },
      "execution_count": null,
      "outputs": [
        {
          "output_type": "display_data",
          "data": {
            "text/html": [
              "<style>\n",
              ".list-inline {list-style: none; margin:0; padding: 0}\n",
              ".list-inline>li {display: inline-block}\n",
              ".list-inline>li:not(:last-child)::after {content: \"\\00b7\"; padding: 0 .5ex}\n",
              "</style>\n",
              "<ol class=list-inline><li>7</li><li>3</li><li>3</li><li>4</li><li>5</li><li>7</li><li>9</li></ol>\n"
            ],
            "text/markdown": "1. 7\n2. 3\n3. 3\n4. 4\n5. 5\n6. 7\n7. 9\n\n\n",
            "text/latex": "\\begin{enumerate*}\n\\item 7\n\\item 3\n\\item 3\n\\item 4\n\\item 5\n\\item 7\n\\item 9\n\\end{enumerate*}\n",
            "text/plain": [
              "[1] 7 3 3 4 5 7 9"
            ]
          },
          "metadata": {}
        }
      ]
    },
    {
      "cell_type": "code",
      "source": [
        "mydata2[, 2]"
      ],
      "metadata": {
        "colab": {
          "base_uri": "https://localhost:8080/",
          "height": 34
        },
        "id": "HmkFuUUNrAQ7",
        "outputId": "c77cb3f7-d260-4e3b-ad53-bd72831ad2ae"
      },
      "execution_count": null,
      "outputs": [
        {
          "output_type": "display_data",
          "data": {
            "text/html": [
              "<style>\n",
              ".list-inline {list-style: none; margin:0; padding: 0}\n",
              ".list-inline>li {display: inline-block}\n",
              ".list-inline>li:not(:last-child)::after {content: \"\\00b7\"; padding: 0 .5ex}\n",
              "</style>\n",
              "<ol class=list-inline><li>7</li><li>3</li><li>3</li><li>4</li><li>5</li><li>7</li><li>9</li></ol>\n"
            ],
            "text/markdown": "1. 7\n2. 3\n3. 3\n4. 4\n5. 5\n6. 7\n7. 9\n\n\n",
            "text/latex": "\\begin{enumerate*}\n\\item 7\n\\item 3\n\\item 3\n\\item 4\n\\item 5\n\\item 7\n\\item 9\n\\end{enumerate*}\n",
            "text/plain": [
              "[1] 7 3 3 4 5 7 9"
            ]
          },
          "metadata": {}
        }
      ]
    },
    {
      "cell_type": "code",
      "source": [
        "mydata2[\"var2\"]"
      ],
      "metadata": {
        "colab": {
          "base_uri": "https://localhost:8080/",
          "height": 352
        },
        "id": "Rj-1ZBgqrGNK",
        "outputId": "015bb45a-4da4-42f8-fb91-ac513aee8015"
      },
      "execution_count": null,
      "outputs": [
        {
          "output_type": "display_data",
          "data": {
            "text/html": [
              "<table class=\"dataframe\">\n",
              "<caption>A data.frame: 7 × 1</caption>\n",
              "<thead>\n",
              "\t<tr><th scope=col>var2</th></tr>\n",
              "\t<tr><th scope=col>&lt;int&gt;</th></tr>\n",
              "</thead>\n",
              "<tbody>\n",
              "\t<tr><td>7</td></tr>\n",
              "\t<tr><td>3</td></tr>\n",
              "\t<tr><td>3</td></tr>\n",
              "\t<tr><td>4</td></tr>\n",
              "\t<tr><td>5</td></tr>\n",
              "\t<tr><td>7</td></tr>\n",
              "\t<tr><td>9</td></tr>\n",
              "</tbody>\n",
              "</table>\n"
            ],
            "text/markdown": "\nA data.frame: 7 × 1\n\n| var2 &lt;int&gt; |\n|---|\n| 7 |\n| 3 |\n| 3 |\n| 4 |\n| 5 |\n| 7 |\n| 9 |\n\n",
            "text/latex": "A data.frame: 7 × 1\n\\begin{tabular}{l}\n var2\\\\\n <int>\\\\\n\\hline\n\t 7\\\\\n\t 3\\\\\n\t 3\\\\\n\t 4\\\\\n\t 5\\\\\n\t 7\\\\\n\t 9\\\\\n\\end{tabular}\n",
            "text/plain": [
              "  var2\n",
              "1 7   \n",
              "2 3   \n",
              "3 3   \n",
              "4 4   \n",
              "5 5   \n",
              "6 7   \n",
              "7 9   "
            ]
          },
          "metadata": {}
        }
      ]
    },
    {
      "cell_type": "markdown",
      "source": [
        "FALTA FINALIZAR COM A LEITURA DE CSV"
      ],
      "metadata": {
        "id": "FWpIyU8esPgk"
      }
    }
  ]
}
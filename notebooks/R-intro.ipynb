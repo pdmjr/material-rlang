{
  "nbformat": 4,
  "nbformat_minor": 0,
  "metadata": {
    "colab": {
      "name": "R-intro.ipynb",
      "provenance": [],
      "authorship_tag": "ABX9TyMEnWSdzO59r1jAxgxgzcTZ",
      "include_colab_link": true
    },
    "kernelspec": {
      "name": "ir",
      "display_name": "R"
    },
    "language_info": {
      "name": "R"
    }
  },
  "cells": [
    {
      "cell_type": "markdown",
      "metadata": {
        "id": "view-in-github",
        "colab_type": "text"
      },
      "source": [
        "<a href=\"https://colab.research.google.com/github/pdmjr/material-rlang/blob/main/notebooks/R-intro.ipynb\" target=\"_parent\"><img src=\"https://colab.research.google.com/assets/colab-badge.svg\" alt=\"Open In Colab\"/></a>"
      ]
    },
    {
      "cell_type": "markdown",
      "source": [
        "# Material introdutório sobre a Linguagem R"
      ],
      "metadata": {
        "id": "uI4iO5Boygd8"
      }
    },
    {
      "cell_type": "markdown",
      "source": [
        "Listagem de ambiente"
      ],
      "metadata": {
        "id": "YcvSJXbEyrz9"
      }
    },
    {
      "cell_type": "code",
      "execution_count": 1,
      "metadata": {
        "colab": {
          "base_uri": "https://localhost:8080/",
          "height": 17
        },
        "id": "cmfe2B98yaJD",
        "outputId": "e2e33224-aa98-4f66-e669-ab06bd2e0fe2"
      },
      "outputs": [
        {
          "output_type": "display_data",
          "data": {
            "text/html": [
              ""
            ],
            "text/markdown": "",
            "text/latex": "",
            "text/plain": [
              "character(0)"
            ]
          },
          "metadata": {}
        }
      ],
      "source": [
        "ls()"
      ]
    }
  ]
}

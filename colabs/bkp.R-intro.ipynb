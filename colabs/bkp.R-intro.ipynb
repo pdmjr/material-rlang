{
  "nbformat": 4,
  "nbformat_minor": 0,
  "metadata": {
    "colab": {
      "provenance": [],
      "collapsed_sections": [
        "6mDriTKENRip",
        "187O0jNTSsn5",
        "DFM88K8caC2o"
      ],
      "authorship_tag": "ABX9TyPctQb6OmfqXV5D/I9+5FKj",
      "include_colab_link": true
    },
    "kernelspec": {
      "name": "ir",
      "display_name": "R"
    },
    "language_info": {
      "name": "R"
    }
  },
  "cells": [
    {
      "cell_type": "markdown",
      "metadata": {
        "id": "view-in-github",
        "colab_type": "text"
      },
      "source": [
        "<a href=\"https://colab.research.google.com/github/pdmjr/material-rlang/blob/main/colabs/R-intro.ipynb\" target=\"_parent\"><img src=\"https://colab.research.google.com/assets/colab-badge.svg\" alt=\"Open In Colab\"/></a>"
      ]
    },
    {
      "cell_type": "markdown",
      "source": [
        "# Material introdutório sobre a Linguagem R <a name=\"inicio\"></a>"
      ],
      "metadata": {
        "id": "uI4iO5Boygd8"
      }
    },
    {
      "cell_type": "markdown",
      "source": [
        "([A maioria dos exemplos foi retirada deste material.](https://cran.r-project.org/doc/contrib/Paradis-rdebuts_en.pdf))"
      ],
      "metadata": {
        "id": "4fZ_5xa5PoeZ"
      }
    },
    {
      "cell_type": "markdown",
      "source": [
        "1. [Criando, listando e apagando objetos na memória](#criando-objetos)\n",
        "2. [Ajuda on-line](#ajuda)\n",
        "3. [Objetos](#objetos)\n",
        "3. [Leitura de dados em um arquivo](#leitura-arquivo)"
      ],
      "metadata": {
        "id": "w2FZtetI-tLG"
      }
    },
    {
      "cell_type": "markdown",
      "source": [
        "## Criando, listando e apagando objetos na memória <a name=\"criando-objetos\"></a>\n",
        "([Início](#inicio))"
      ],
      "metadata": {
        "id": "6mDriTKENRip"
      }
    },
    {
      "cell_type": "markdown",
      "source": [
        "Atribuição"
      ],
      "metadata": {
        "id": "pRK_s97ZU-aK"
      }
    },
    {
      "cell_type": "code",
      "source": [
        "n <- 15\n",
        "n\n",
        "5 -> n\n",
        "n"
      ],
      "metadata": {
        "id": "0RI5dc2mNf5B"
      },
      "execution_count": null,
      "outputs": []
    },
    {
      "cell_type": "code",
      "source": [
        "x <- 1\n",
        "X <- 10\n",
        "x\n",
        "X"
      ],
      "metadata": {
        "id": "Kk_PYZKQNsq6"
      },
      "execution_count": null,
      "outputs": []
    },
    {
      "cell_type": "code",
      "source": [
        "n <- 10 + 2\n",
        "n"
      ],
      "metadata": {
        "id": "SkFFDx01NyuC"
      },
      "execution_count": null,
      "outputs": []
    },
    {
      "cell_type": "code",
      "source": [
        "n <- 3 + rnorm(1)\n",
        "n"
      ],
      "metadata": {
        "id": "3dnpEUokN9Ny"
      },
      "execution_count": null,
      "outputs": []
    },
    {
      "cell_type": "markdown",
      "source": [
        "Listagem do ambiente"
      ],
      "metadata": {
        "id": "CHuE1FsbVBjQ"
      }
    },
    {
      "cell_type": "code",
      "source": [
        "ls()"
      ],
      "metadata": {
        "id": "BWvwYGhFScXZ"
      },
      "execution_count": null,
      "outputs": []
    },
    {
      "cell_type": "markdown",
      "source": [
        "Remoção de objetos"
      ],
      "metadata": {
        "id": "dtbCCK2SVDrZ"
      }
    },
    {
      "cell_type": "code",
      "source": [
        "rm(n)"
      ],
      "metadata": {
        "id": "wAEHuHcaRarR"
      },
      "execution_count": null,
      "outputs": []
    },
    {
      "cell_type": "code",
      "source": [
        "rm(x, X)"
      ],
      "metadata": {
        "id": "djk_EwlQRecN"
      },
      "execution_count": null,
      "outputs": []
    },
    {
      "cell_type": "markdown",
      "source": [
        "Expressão sem atribuição a um objeto"
      ],
      "metadata": {
        "id": "WYqjCmhXVNIz"
      }
    },
    {
      "cell_type": "code",
      "source": [
        "(10 + 2) * 5"
      ],
      "metadata": {
        "id": "9NbVdHgKP1WS"
      },
      "execution_count": null,
      "outputs": []
    },
    {
      "cell_type": "markdown",
      "source": [
        "Vários comandos na mesma linha"
      ],
      "metadata": {
        "id": "eYfNBPRaVW4_"
      }
    },
    {
      "cell_type": "code",
      "source": [
        "name <- \"Carmen\"; n1 <- 10; n2 <- 100; m <- 0.5\n",
        "ls()"
      ],
      "metadata": {
        "id": "x8_gfyPcQJMh"
      },
      "execution_count": null,
      "outputs": []
    },
    {
      "cell_type": "markdown",
      "source": [
        "Filtrando a listagem por algum padrão de texto"
      ],
      "metadata": {
        "id": "hC2q49ftVZ9P"
      }
    },
    {
      "cell_type": "code",
      "execution_count": null,
      "metadata": {
        "id": "cmfe2B98yaJD"
      },
      "outputs": [],
      "source": [
        "ls(pattern = \"m\")"
      ]
    },
    {
      "cell_type": "code",
      "source": [
        "ls(pat = \"^m\")"
      ],
      "metadata": {
        "id": "UJMFMlZJVsfw"
      },
      "execution_count": null,
      "outputs": []
    },
    {
      "cell_type": "markdown",
      "source": [
        "Listagem com detalhes dos objetos"
      ],
      "metadata": {
        "id": "by6fw9ocViKf"
      }
    },
    {
      "cell_type": "code",
      "source": [
        "ls.str()"
      ],
      "metadata": {
        "id": "JXmxIvT4RBrw"
      },
      "execution_count": null,
      "outputs": []
    },
    {
      "cell_type": "code",
      "source": [
        "rm(list = ls())\n",
        "ls()"
      ],
      "metadata": {
        "id": "_OgoE5gvR-bI"
      },
      "execution_count": null,
      "outputs": []
    },
    {
      "cell_type": "markdown",
      "source": [
        "## Ajuda on-line <a name=\"ajuda\"></a>\n",
        "([Início](#inicio))"
      ],
      "metadata": {
        "id": "187O0jNTSsn5"
      }
    },
    {
      "cell_type": "markdown",
      "source": [
        "Utilizando as funções de ajuda ```?``` e ```help()```"
      ],
      "metadata": {
        "id": "I8sRLR8aWKBQ"
      }
    },
    {
      "cell_type": "code",
      "source": [
        "?ls"
      ],
      "metadata": {
        "id": "Ny4p2G63S6Y5"
      },
      "execution_count": null,
      "outputs": []
    },
    {
      "cell_type": "code",
      "source": [
        "help(ls)"
      ],
      "metadata": {
        "id": "VaFBpUK1ThVY"
      },
      "execution_count": null,
      "outputs": []
    },
    {
      "cell_type": "code",
      "source": [
        "help(\"ls\")"
      ],
      "metadata": {
        "id": "liXoaGOgTlUg"
      },
      "execution_count": null,
      "outputs": []
    },
    {
      "cell_type": "markdown",
      "source": [
        "As aspas são importantes para caracteres especiais"
      ],
      "metadata": {
        "id": "3OfK85wzWVeP"
      }
    },
    {
      "cell_type": "code",
      "source": [
        "?*"
      ],
      "metadata": {
        "id": "mTiyHAGeTLmQ"
      },
      "execution_count": null,
      "outputs": []
    },
    {
      "cell_type": "code",
      "source": [
        "help(\"*\")"
      ],
      "metadata": {
        "id": "cY_QCursTT5_"
      },
      "execution_count": null,
      "outputs": []
    },
    {
      "cell_type": "markdown",
      "source": [
        "Por padrão, a função ```help()``` procura apenas por pacotes carregados na memória; mas também é possível buscar em um pacote específico ou em todos os pacotes com a opção ```try.all.packages = TRUE``` "
      ],
      "metadata": {
        "id": "HgxN8sBaUA3A"
      }
    },
    {
      "cell_type": "code",
      "source": [
        "help(\"bs\")"
      ],
      "metadata": {
        "id": "cPSDFXyFT4ig"
      },
      "execution_count": null,
      "outputs": []
    },
    {
      "cell_type": "code",
      "source": [
        "help(\"bs\", package = \"splines\")"
      ],
      "metadata": {
        "id": "9iD5djOFXNyN"
      },
      "execution_count": null,
      "outputs": []
    },
    {
      "cell_type": "code",
      "source": [
        "help(\"bs\", try.all.packages = TRUE)"
      ],
      "metadata": {
        "id": "CIMCqtuaWxgf"
      },
      "execution_count": null,
      "outputs": []
    },
    {
      "cell_type": "markdown",
      "source": [
        "Busca por uma palavra específica em todas as páginas de ajuda"
      ],
      "metadata": {
        "id": "hI203euzYbvu"
      }
    },
    {
      "cell_type": "code",
      "source": [
        "help.search(\"tree\")"
      ],
      "metadata": {
        "id": "xFXEPrDSYB03"
      },
      "execution_count": null,
      "outputs": []
    },
    {
      "cell_type": "markdown",
      "source": [
        "Para o caso de pacotes instalados recentementes, talvez seja necessário atualizar a base de dados utilizada"
      ],
      "metadata": {
        "id": "0uRHzfREYsHw"
      }
    },
    {
      "cell_type": "code",
      "source": [
        "help.search(\"tree\", rebuild = TRUE)"
      ],
      "metadata": {
        "id": "sLaovi96ZSvU"
      },
      "execution_count": null,
      "outputs": []
    },
    {
      "cell_type": "markdown",
      "source": [
        "Busca por todas as funções em memória cujos nomes contêm uma determinada string"
      ],
      "metadata": {
        "id": "FSNJeUHAZd-_"
      }
    },
    {
      "cell_type": "code",
      "source": [
        "apropos(\"help\")"
      ],
      "metadata": {
        "id": "p94En8XQZ0Sv"
      },
      "execution_count": null,
      "outputs": []
    },
    {
      "cell_type": "markdown",
      "source": [
        "## Objetos <a name=\"objetos\"></a>\n",
        "([Início](#inicio))"
      ],
      "metadata": {
        "id": "DFM88K8caC2o"
      }
    },
    {
      "cell_type": "markdown",
      "source": [
        "R trabalha com objetos que são caracterizados por seus atributos, dois deles intrisecos são ```mode``` e ```length```"
      ],
      "metadata": {
        "id": "2J04DJBraPTW"
      }
    },
    {
      "cell_type": "code",
      "source": [
        "x <- 1\n",
        "mode(x)\n",
        "length(x)"
      ],
      "metadata": {
        "id": "VExtK02uaHy_"
      },
      "execution_count": null,
      "outputs": []
    },
    {
      "cell_type": "code",
      "source": [
        "A <- \"Gomphotherium\"; compar <- TRUE; y <- 2; z <- 1i\n",
        "mode(A); mode(compar); mode(y); mode(z)"
      ],
      "metadata": {
        "id": "4Uks1vcMbRYm"
      },
      "execution_count": null,
      "outputs": []
    },
    {
      "cell_type": "markdown",
      "source": [
        "Números grandes podem ser especificados com notação exponencial"
      ],
      "metadata": {
        "id": "y9SlFVSsb3h_"
      }
    },
    {
      "cell_type": "code",
      "source": [
        "N <- 2.1e23\n",
        "N"
      ],
      "metadata": {
        "id": "c34ddhGrbb2v"
      },
      "execution_count": null,
      "outputs": []
    },
    {
      "cell_type": "markdown",
      "source": [
        "Representação de números infinitos (```Inf``` e ```-Inf```) ou valores que não são números (```NaN```)"
      ],
      "metadata": {
        "id": "pZtZCTqicGRA"
      }
    },
    {
      "cell_type": "code",
      "source": [
        "x <- 5/0\n",
        "x"
      ],
      "metadata": {
        "id": "mH-M5dvMciyn"
      },
      "execution_count": null,
      "outputs": []
    },
    {
      "cell_type": "code",
      "source": [
        "exp(x)"
      ],
      "metadata": {
        "id": "FjgnLtRVcqcm"
      },
      "execution_count": null,
      "outputs": []
    },
    {
      "cell_type": "code",
      "source": [
        "exp(-x)"
      ],
      "metadata": {
        "id": "y7ngNqysctDe"
      },
      "execution_count": null,
      "outputs": []
    },
    {
      "cell_type": "code",
      "source": [
        "x - x"
      ],
      "metadata": {
        "id": "BKoYim4nc1Dg"
      },
      "execution_count": null,
      "outputs": []
    },
    {
      "cell_type": "markdown",
      "source": [
        "| object  | modes  | several modes possible |\n",
        "|---|---|---|\n",
        "| vector  | numeric, character, complex or logical | No |\n",
        "| factor  | numeric or character  | No  |\n",
        "| array  | numeric, character, complex or logical  | No  |\n",
        "| matrix  | numeric, character, complex or logical  | No  |\n",
        "| data frame  | numeric, character, complex or logical | Yes  |\n",
        "| ts  | numeric, character, complex or logical  | No  |\n",
        "| list  | numeric, character, complex, logical, function, expression, ...  | Yes  |"
      ],
      "metadata": {
        "id": "A78l4nZ_dWtP"
      }
    },
    {
      "cell_type": "markdown",
      "source": [
        "## Leitura de dados em um arquivo <a name=\"leitura-arquivo\"></a>\n",
        "([Início](#inicio))\n"
      ],
      "metadata": {
        "id": "bdqFTR36fZYY"
      }
    },
    {
      "cell_type": "markdown",
      "source": [
        "Para saber o diretório de trabalho"
      ],
      "metadata": {
        "id": "HE1vijzDflbu"
      }
    },
    {
      "cell_type": "code",
      "source": [
        "getwd()"
      ],
      "metadata": {
        "id": "AFhH-mtgfyw2"
      },
      "execution_count": null,
      "outputs": []
    },
    {
      "cell_type": "markdown",
      "source": [
        "Para alterar o diretório de trabalho"
      ],
      "metadata": {
        "id": "2FsOLpvgf1dt"
      }
    },
    {
      "cell_type": "code",
      "source": [
        "setwd(\"PATH_TO_THE_NEW_DIRECTORY\")"
      ],
      "metadata": {
        "id": "nOKMWg9Rf8Xt"
      },
      "execution_count": null,
      "outputs": []
    },
    {
      "cell_type": "markdown",
      "source": [
        "Para ler dados armazenados em formato tabular e em modo texto (ASCII)"
      ],
      "metadata": {
        "id": "gzLGLufnoVzD"
      }
    },
    {
      "cell_type": "code",
      "source": [
        "mydata1 <- read.table(\"https://raw.githubusercontent.com/pdmjr/material-rlang/main/arquivos/sample-data.dat\")\n",
        "mydata1"
      ],
      "metadata": {
        "id": "w1PxCsp7kG5s"
      },
      "execution_count": null,
      "outputs": []
    },
    {
      "cell_type": "code",
      "source": [
        "mydata2 <- read.table(\"https://raw.githubusercontent.com/pdmjr/material-rlang/main/arquivos/sample-data.dat\", header = T)\n",
        "mydata2"
      ],
      "metadata": {
        "id": "oGyuZ3fxnLhp"
      },
      "execution_count": null,
      "outputs": []
    },
    {
      "cell_type": "markdown",
      "source": [
        "Nas últimas duas atribuições foram criados dois data frames, cujos valores podem ser acessados pelas indicações das colunas"
      ],
      "metadata": {
        "id": "ukMP8RPaogYj"
      }
    },
    {
      "cell_type": "code",
      "source": [
        "mydata1$V1"
      ],
      "metadata": {
        "id": "fgdhjo3LpUqT"
      },
      "execution_count": null,
      "outputs": []
    },
    {
      "cell_type": "code",
      "source": [
        "mydata1[, 1]"
      ],
      "metadata": {
        "id": "AJ25DrF3ptnz"
      },
      "execution_count": null,
      "outputs": []
    },
    {
      "cell_type": "code",
      "source": [
        "mydata1[\"V1\"]"
      ],
      "metadata": {
        "id": "CpM7qpgxphrj"
      },
      "execution_count": null,
      "outputs": []
    },
    {
      "cell_type": "code",
      "source": [
        "mydata2$V1"
      ],
      "metadata": {
        "id": "LMmCttLdp6Jz"
      },
      "execution_count": null,
      "outputs": []
    },
    {
      "cell_type": "markdown",
      "source": [
        "Você entendeu a resposta acima?\n",
        "\n"
      ],
      "metadata": {
        "id": "6yOywOyjqQ5s"
      }
    },
    {
      "cell_type": "code",
      "source": [
        "mydata2"
      ],
      "metadata": {
        "id": "xHrGqrTLqeZ7"
      },
      "execution_count": null,
      "outputs": []
    },
    {
      "cell_type": "code",
      "source": [
        "mydata2$var2"
      ],
      "metadata": {
        "id": "o2A8JUOQq5tC"
      },
      "execution_count": null,
      "outputs": []
    },
    {
      "cell_type": "code",
      "source": [
        "mydata2[, 2]"
      ],
      "metadata": {
        "id": "HmkFuUUNrAQ7"
      },
      "execution_count": null,
      "outputs": []
    },
    {
      "cell_type": "code",
      "source": [
        "mydata2[\"var2\"]"
      ],
      "metadata": {
        "id": "Rj-1ZBgqrGNK"
      },
      "execution_count": null,
      "outputs": []
    },
    {
      "cell_type": "markdown",
      "source": [
        "\n",
        "Leitura de dados em um arquivo CSV (*Comma-Separated Values*)"
      ],
      "metadata": {
        "id": "FWpIyU8esPgk"
      }
    },
    {
      "cell_type": "code",
      "source": [
        "mycsvdata <- read.csv(\"https://raw.githubusercontent.com/pdmjr/material-rlang/main/arquivos/sample-aws-ec2-instance-types.csv\")\n",
        "mycsvdata"
      ],
      "metadata": {
        "id": "nO2_wzRMLt_A"
      },
      "execution_count": null,
      "outputs": []
    },
    {
      "cell_type": "code",
      "source": [
        "mycsvdata$EC2.Compute.units"
      ],
      "metadata": {
        "id": "E92ZPTBKMNF_"
      },
      "execution_count": null,
      "outputs": []
    },
    {
      "cell_type": "code",
      "source": [
        "colnames(mycsvdata)"
      ],
      "metadata": {
        "id": "_tU6CqhbPfa9"
      },
      "execution_count": null,
      "outputs": []
    },
    {
      "cell_type": "code",
      "source": [
        "colnames(mycsvdata) <- c(\"name\", \"mem\", \"vcpus\", \"str\", \"ioperf\", \"ebs\", \"api\")\n",
        "colnames(mycsvdata)\n",
        "mycsvdata"
      ],
      "metadata": {
        "id": "v2uawR4rP1zz"
      },
      "execution_count": null,
      "outputs": []
    },
    {
      "cell_type": "markdown",
      "source": [
        "## Escrita de dados em um arquivo <a name=\"leitura-arquivo\"></a>\n",
        "([Início](#inicio))\n"
      ],
      "metadata": {
        "id": "6FToLyaNtfm3"
      }
    },
    {
      "cell_type": "markdown",
      "source": [
        "Verificando o diretório corrente e a lista de objetos"
      ],
      "metadata": {
        "id": "9gdq6mWDv-mW"
      }
    },
    {
      "cell_type": "code",
      "source": [
        "getwd()"
      ],
      "metadata": {
        "id": "Fg3bU1TZvbmX"
      },
      "execution_count": null,
      "outputs": []
    },
    {
      "cell_type": "code",
      "source": [
        "ls()"
      ],
      "metadata": {
        "id": "9yZqLzXAt8SL"
      },
      "execution_count": null,
      "outputs": []
    },
    {
      "cell_type": "markdown",
      "source": [
        "Salvando um objeto em um arquivo"
      ],
      "metadata": {
        "id": "B2ZzUuDKwFUQ"
      }
    },
    {
      "cell_type": "code",
      "source": [
        "x; y"
      ],
      "metadata": {
        "id": "6-paGaOrwq_S"
      },
      "execution_count": null,
      "outputs": []
    },
    {
      "cell_type": "code",
      "source": [
        "write(x, file = \"data.txt\")"
      ],
      "metadata": {
        "id": "IsUqS7lMwMvv"
      },
      "execution_count": null,
      "outputs": []
    },
    {
      "cell_type": "code",
      "source": [
        "write(y, file = \"data.txt\")"
      ],
      "metadata": {
        "id": "_SJ6qRKgwi81"
      },
      "execution_count": null,
      "outputs": []
    },
    {
      "cell_type": "markdown",
      "source": [
        "Salvando um objeto tabular (tipicamente um *data frame*) em um arquivo"
      ],
      "metadata": {
        "id": "tCLmmrD0tqfE"
      }
    },
    {
      "cell_type": "code",
      "source": [
        "write.table(mycsvdata, file = \"mycsvdata-local.csv\")"
      ],
      "metadata": {
        "id": "W8OOLotsuUAl"
      },
      "execution_count": null,
      "outputs": []
    },
    {
      "cell_type": "markdown",
      "source": [
        "Salvando um grupo de objetos, maneira mais fácil de transferir dados (*workspace* no jargão R) entre máquinas"
      ],
      "metadata": {
        "id": "EQS4rOXpxMT1"
      }
    },
    {
      "cell_type": "code",
      "source": [
        "save(x, y, z, file = \"xyz.RData\")"
      ],
      "metadata": {
        "id": "A7If6p2ixPw_"
      },
      "execution_count": null,
      "outputs": []
    },
    {
      "cell_type": "markdown",
      "source": [
        "Carregando dados salvos em um arquivo"
      ],
      "metadata": {
        "id": "o7lGkc6Kyi-t"
      }
    },
    {
      "cell_type": "code",
      "source": [
        "rm(x, y, z); ls()"
      ],
      "metadata": {
        "id": "i3Ltq9oPymjw"
      },
      "execution_count": null,
      "outputs": []
    },
    {
      "cell_type": "code",
      "source": [
        "load(\"xyz.RData\"); ls()"
      ],
      "metadata": {
        "id": "mTKF4aZ7ypY-"
      },
      "execution_count": null,
      "outputs": []
    },
    {
      "cell_type": "markdown",
      "source": [
        "Salvando todo o ambiente (equivalente a ```save(list = ls(all = TRUE), file = \".RData\")```)"
      ],
      "metadata": {
        "id": "kvml7lJb2eXB"
      }
    },
    {
      "cell_type": "code",
      "source": [
        "save.image()"
      ],
      "metadata": {
        "id": "bkrNYDdY2rmB"
      },
      "execution_count": null,
      "outputs": []
    },
    {
      "cell_type": "code",
      "source": [
        "system(\"pwd\")"
      ],
      "metadata": {
        "id": "fkCWOJTM3KfG"
      },
      "execution_count": null,
      "outputs": []
    }
  ]
}
